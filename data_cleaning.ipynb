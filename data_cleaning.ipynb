{
 "cells": [
  {
   "cell_type": "code",
   "execution_count": 2,
   "metadata": {},
   "outputs": [],
   "source": [
    "import pandas as pd\n",
    "\n",
    "data = pd.read_csv(\"dirty_data.csv\")"
   ]
  },
  {
   "cell_type": "code",
   "execution_count": 3,
   "metadata": {},
   "outputs": [
    {
     "name": "stdout",
     "output_type": "stream",
     "text": [
      "Non-numeric ages:\n",
      "       name          age    salary\n",
      "2  Charlie  thirty-five  120000.0\n"
     ]
    }
   ],
   "source": [
    "non_numeric_ages = data[~data['age'].apply(lambda x: str(x).isdigit())]\n",
    "print(\"Non-numeric ages:\\n\", non_numeric_ages)"
   ]
  },
  {
   "cell_type": "code",
   "execution_count": 4,
   "metadata": {},
   "outputs": [
    {
     "name": "stdout",
     "output_type": "stream",
     "text": [
      "\n",
      "Data after correcting inaccuracies:\n",
      "       name age    salary\n",
      "0    Alice  30   70000.0\n",
      "1      Bob  25   50000.0\n",
      "2  Charlie  35  120000.0\n",
      "3    David  27   60000.0\n",
      "4      Eve  26       0.0\n"
     ]
    }
   ],
   "source": [
    "# Replace inaccurate age entries\n",
    "data['age'] = data['age'].replace({'thirty-five': 35})\n",
    "data['salary'].fillna(0, inplace=True)\n",
    "\n",
    "print(\"\\nData after correcting inaccuracies:\\n\", data)"
   ]
  },
  {
   "cell_type": "code",
   "execution_count": null,
   "metadata": {},
   "outputs": [],
   "source": []
  }
 ],
 "metadata": {
  "kernelspec": {
   "display_name": "base",
   "language": "python",
   "name": "python3"
  },
  "language_info": {
   "codemirror_mode": {
    "name": "ipython",
    "version": 3
   },
   "file_extension": ".py",
   "mimetype": "text/x-python",
   "name": "python",
   "nbconvert_exporter": "python",
   "pygments_lexer": "ipython3",
   "version": "3.11.7"
  }
 },
 "nbformat": 4,
 "nbformat_minor": 2
}
