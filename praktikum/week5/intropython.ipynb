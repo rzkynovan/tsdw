{
 "cells": [
  {
   "cell_type": "code",
   "execution_count": 1,
   "metadata": {},
   "outputs": [],
   "source": [
    "import pandas as pd\n",
    "import numpy as np\n",
    "import seaborn as sns\n",
    "import scipy.stats as stats\n",
    "import matplotlib.pyplot as plt"
   ]
  },
  {
   "cell_type": "markdown",
   "metadata": {},
   "source": [
    "## Read Data"
   ]
  },
  {
   "cell_type": "code",
   "execution_count": null,
   "metadata": {},
   "outputs": [],
   "source": [
    "# Data CSV\n",
    "import pandas as pd\n",
    "df = pd.read_csv('data.csv')\n",
    "\n",
    "# Data Excel\n",
    "df = pd.read_excel('data.xlsx')"
   ]
  },
  {
   "cell_type": "markdown",
   "metadata": {},
   "source": [
    "## Print "
   ]
  },
  {
   "cell_type": "code",
   "execution_count": null,
   "metadata": {},
   "outputs": [],
   "source": [
    "print(\"Hello World\")"
   ]
  },
  {
   "cell_type": "markdown",
   "metadata": {},
   "source": [
    "## Comment"
   ]
  },
  {
   "cell_type": "code",
   "execution_count": 2,
   "metadata": {},
   "outputs": [
    {
     "name": "stdout",
     "output_type": "stream",
     "text": [
      "Hello World\n",
      "halo dunia\n"
     ]
    }
   ],
   "source": [
    "## ini buat comment\n",
    "print(\"Hello World\") # Comment nya ngga keluar kalo di print\n",
    "\n",
    "\"\"\"\n",
    "Kalo ini comment yang bisa buat beberapa line\n",
    "kayak gini ya kurang lebih\n",
    "bisa dicoba sendiri\n",
    "\"\"\"\n",
    "print('halo dunia')"
   ]
  },
  {
   "cell_type": "markdown",
   "metadata": {},
   "source": [
    "## Python Variables"
   ]
  },
  {
   "cell_type": "code",
   "execution_count": 4,
   "metadata": {},
   "outputs": [
    {
     "name": "stdout",
     "output_type": "stream",
     "text": [
      "aku kamu kita\n",
      "Orange Banana Cherry\n",
      "OrangeBananaCherry\n",
      "Dia bermuka 2\n"
     ]
    }
   ],
   "source": [
    "# Contoh 1 variabel\n",
    "x = \"aku kamu kita\"\n",
    "print(x)\n",
    "\n",
    "# Contoh penamaan variabel yang benar\n",
    "myvar = \"Aku\"\n",
    "my_var = \"Kamu\"\n",
    "\n",
    "# Contoh penamaan variabel yang Salah\n",
    "# 2myvar = \"Stresss\"\n",
    "# my-var = \"haduhhhh\"\n",
    "# my var = \"capekkkk\"\n",
    "\n",
    "# Print Multivariabel\n",
    "x, y, z = \"Orange\", \"Banana\", \"Cherry\"\n",
    "print(x, y, z)\n",
    "print(x + y + z)\n",
    "\n",
    "i, j = \"Dia bermuka\", 2\n",
    "print(i,j)\n",
    "\n",
    "#Print Multivariabel yang SALAH\n",
    "# 1 ketika pakek \"+\" tapi beda tipe data\n",
    "#x = 5\n",
    "#y = \"John\"\n",
    "#print(x + y)"
   ]
  },
  {
   "cell_type": "code",
   "execution_count": 5,
   "metadata": {},
   "outputs": [
    {
     "name": "stdout",
     "output_type": "stream",
     "text": [
      "<class 'int'>\n",
      "<class 'int'>\n",
      "<class 'int'>\n",
      "<class 'float'>\n",
      "<class 'float'>\n",
      "<class 'float'>\n",
      "<class 'float'>\n"
     ]
    }
   ],
   "source": [
    "# 1 baris\n",
    "print(\"Halo, World\")\n",
    "\n",
    "# >1 baris\n",
    "a = \"\"\"Disini kita coba tipe data string dalam beberapa baris,\n",
    "Ini baris 1,\n",
    "ini baris 2,\n",
    "dan ini baris 3.\"\"\"\n",
    "print(a)\n",
    "\n",
    "#Slice\n",
    "b = \"Hello, World!\"\n",
    "print(b[1:5])\n",
    "\n",
    "\n",
    "#Integer\n",
    "x = 1\n",
    "y = 35656222554887711\n",
    "z = -3255522\n",
    "\n",
    "print(type(x))\n",
    "print(type(y))\n",
    "print(type(z))\n",
    "\n",
    "#Float\n",
    "x = 1.10\n",
    "y = 1.0\n",
    "z = -35.59\n",
    "ze = 35e3 #berlaku buat e(desimal lebih dari 10)\n",
    "\n",
    "\n",
    "print(type(x))\n",
    "print(type(y))\n",
    "print(type(z))\n",
    "print(type(ze))"
   ]
  },
  {
   "cell_type": "code",
   "execution_count": null,
   "metadata": {},
   "outputs": [],
   "source": []
  }
 ],
 "metadata": {
  "kernelspec": {
   "display_name": "base",
   "language": "python",
   "name": "python3"
  },
  "language_info": {
   "codemirror_mode": {
    "name": "ipython",
    "version": 3
   },
   "file_extension": ".py",
   "mimetype": "text/x-python",
   "name": "python",
   "nbconvert_exporter": "python",
   "pygments_lexer": "ipython3",
   "version": "3.11.7"
  }
 },
 "nbformat": 4,
 "nbformat_minor": 2
}
