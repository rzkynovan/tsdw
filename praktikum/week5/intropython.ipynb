{
 "cells": [
  {
   "cell_type": "code",
   "execution_count": 1,
   "metadata": {},
   "outputs": [],
   "source": [
    "import pandas as pd\n",
    "import numpy as np\n",
    "import seaborn as sns\n",
    "import scipy.stats as stats\n",
    "import matplotlib.pyplot as plt"
   ]
  },
  {
   "cell_type": "markdown",
   "metadata": {},
   "source": [
    "## Read Data"
   ]
  },
  {
   "cell_type": "code",
   "execution_count": null,
   "metadata": {},
   "outputs": [],
   "source": [
    "# Data CSV\n",
    "import pandas as pd\n",
    "df = pd.read_csv('data.csv')\n",
    "\n",
    "# Data Excel\n",
    "df = pd.read_excel('data.xlsx')"
   ]
  },
  {
   "cell_type": "markdown",
   "metadata": {},
   "source": [
    "## Print "
   ]
  },
  {
   "cell_type": "code",
   "execution_count": null,
   "metadata": {},
   "outputs": [],
   "source": [
    "print(\"Hello World\")"
   ]
  },
  {
   "cell_type": "markdown",
   "metadata": {},
   "source": [
    "## Comment"
   ]
  },
  {
   "cell_type": "code",
   "execution_count": 2,
   "metadata": {},
   "outputs": [
    {
     "name": "stdout",
     "output_type": "stream",
     "text": [
      "Hello World\n",
      "halo dunia\n"
     ]
    }
   ],
   "source": [
    "## ini buat comment\n",
    "print(\"Hello World\") # Comment nya ngga keluar kalo di print\n",
    "\n",
    "\"\"\"\n",
    "Kalo ini comment yang bisa buat beberapa line\n",
    "kayak gini ya kurang lebih\n",
    "bisa dicoba sendiri\n",
    "\"\"\"\n",
    "print('halo dunia')"
   ]
  },
  {
   "cell_type": "markdown",
   "metadata": {},
   "source": [
    "## Python Variables"
   ]
  },
  {
   "cell_type": "code",
   "execution_count": 4,
   "metadata": {},
   "outputs": [
    {
     "name": "stdout",
     "output_type": "stream",
     "text": [
      "aku kamu kita\n",
      "Orange Banana Cherry\n",
      "OrangeBananaCherry\n",
      "Dia bermuka 2\n"
     ]
    }
   ],
   "source": [
    "# Contoh 1 variabel\n",
    "x = \"aku kamu kita\"\n",
    "print(x)\n",
    "\n",
    "# Contoh penamaan variabel yang benar\n",
    "myvar = \"Aku\"\n",
    "my_var = \"Kamu\"\n",
    "\n",
    "# Contoh penamaan variabel yang Salah\n",
    "# 2myvar = \"Stresss\"\n",
    "# my-var = \"haduhhhh\"\n",
    "# my var = \"capekkkk\"\n",
    "\n",
    "# Print Multivariabel\n",
    "x, y, z = \"Orange\", \"Banana\", \"Cherry\"\n",
    "print(x, y, z)\n",
    "print(x + y + z)\n",
    "\n",
    "i, j = \"Dia bermuka\", 2\n",
    "print(i,j)\n",
    "\n",
    "#Print Multivariabel yang SALAH\n",
    "# 1 ketika pakek \"+\" tapi beda tipe data\n",
    "#x = 5\n",
    "#y = \"John\"\n",
    "#print(x + y)"
   ]
  },
  {
   "cell_type": "code",
   "execution_count": 6,
   "metadata": {},
   "outputs": [
    {
     "name": "stdout",
     "output_type": "stream",
     "text": [
      "Halo, World\n",
      "Disini kita coba tipe data string dalam beberapa baris,\n",
      "Ini baris 1,\n",
      "ini baris 2,\n",
      "dan ini baris 3.\n",
      "ello\n",
      "<class 'int'>\n",
      "<class 'int'>\n",
      "<class 'int'>\n",
      "<class 'float'>\n",
      "<class 'float'>\n",
      "<class 'float'>\n",
      "<class 'float'>\n",
      "True\n",
      "False\n",
      "False\n",
      "True\n",
      "True\n",
      "True\n",
      "False\n"
     ]
    }
   ],
   "source": [
    "# 1 baris\n",
    "print(\"Halo, World\")\n",
    "\n",
    "# >1 baris\n",
    "a = \"\"\"Disini kita coba tipe data string dalam beberapa baris,\n",
    "Ini baris 1,\n",
    "ini baris 2,\n",
    "dan ini baris 3.\"\"\"\n",
    "print(a)\n",
    "\n",
    "#Slice\n",
    "b = \"Hello, World!\"\n",
    "print(b[1:5])\n",
    "\n",
    "\n",
    "#Integer\n",
    "x = 1\n",
    "y = 35656222554887711\n",
    "z = -3255522\n",
    "\n",
    "print(type(x))\n",
    "print(type(y))\n",
    "print(type(z))\n",
    "\n",
    "#Float\n",
    "x = 1.10\n",
    "y = 1.0\n",
    "z = -35.59\n",
    "ze = 35e3 #berlaku buat e(desimal lebih dari 10)\n",
    "\n",
    "\n",
    "print(type(x))\n",
    "print(type(y))\n",
    "print(type(z))\n",
    "print(type(ze))\n",
    "\n",
    "# Boolean\n",
    "print(10 > 9)\n",
    "print(10 == 9)\n",
    "print(10 < 9)\n",
    "\n",
    "print(bool(\"Hello\"))\n",
    "print(bool(15))\n",
    "print(bool(-1))\n",
    "print(bool(0))"
   ]
  },
  {
   "cell_type": "code",
   "execution_count": 7,
   "metadata": {},
   "outputs": [
    {
     "name": "stdout",
     "output_type": "stream",
     "text": [
      "['apple', 'banana', 'cherry']\n",
      "['apple', 'banana', 'cherry', 'apple', 'cherry']\n",
      "apple\n",
      "cherry\n",
      "['apple', 'blackcurrant', 'watermelon', 'Durian', 'orange', 'kiwi', 'mango']\n",
      "['apple', 'banana', 'cherry', 'orange']\n",
      "['apple', 'orange', 'banana', 'cherry']\n",
      "['apple', 'banana', 'cherry', 'mango', 'pineapple', 'papaya']\n",
      "['apple', 'cherry']\n",
      "['apple', 'cherry']\n"
     ]
    }
   ],
   "source": [
    "thislist = [\"apple\", \"banana\", \"cherry\"]\n",
    "print(thislist)\n",
    "thislist2 = [\"apple\", \"banana\", \"cherry\", \"apple\", \"cherry\"]\n",
    "print(thislist2)\n",
    "\n",
    "#Isi dari komponen list bisa untuk beberapa tipe data\n",
    "list1 = [\"apple\", \"banana\", \"cherry\"]\n",
    "list2 = [1, 5, 7, 9, 3]\n",
    "list3 = [True, False, False]\n",
    "list4 = [\"abc\", 34, True, 40, \"male\"] #Campuran\n",
    "\n",
    "thislist = [\"apple\", \"banana\", \"cherry\"]\n",
    "print(thislist[0])\n",
    "thislist1 = [\"apple\", \"banana\", \"cherry\"]\n",
    "print(thislist1[-1])\n",
    "\n",
    "thislist = [\"apple\", \"banana\", \"cherry\", \"orange\", \"kiwi\", \"mango\"]\n",
    "thislist[1:3] = [\"blackcurrant\", \"watermelon\",\"Durian\"]\n",
    "print(thislist)\n",
    "\n",
    "# Tambah Item Pada List\n",
    "thislist1 = [\"apple\", \"banana\", \"cherry\"]\n",
    "thislist1.append(\"orange\")\n",
    "print(thislist1)\n",
    "\n",
    "# Insert Item Pada List\n",
    "thislist = [\"apple\", \"banana\", \"cherry\"]\n",
    "thislist.insert(1, \"orange\")\n",
    "print(thislist)\n",
    "\n",
    "# Extend list\n",
    "thislist = [\"apple\", \"banana\", \"cherry\"]\n",
    "tropical = [\"mango\", \"pineapple\", \"papaya\"]\n",
    "thislist.extend(tropical)\n",
    "print(thislist)\n",
    "\n",
    "# Remove List\n",
    "thislist = [\"apple\", \"banana\", \"cherry\"]\n",
    "thislist.remove(\"banana\")\n",
    "print(thislist)\n",
    "\n",
    "# Remove List Berdasarkan Index\n",
    "thislist = [\"apple\", \"banana\", \"cherry\"]\n",
    "thislist.pop(1)\n",
    "print(thislist)"
   ]
  },
  {
   "cell_type": "code",
   "execution_count": 8,
   "metadata": {},
   "outputs": [
    {
     "name": "stdout",
     "output_type": "stream",
     "text": [
      "('apple', 'banana', 'cherry')\n",
      "<class 'str'>\n",
      "<class 'tuple'>\n",
      "('apple', 'banana', 'cherry', 'orange')\n",
      "('banana', 'cherry')\n"
     ]
    }
   ],
   "source": [
    "thistuple = (\"apple\", \"banana\", \"cherry\")\n",
    "print(thistuple)\n",
    "\n",
    "#NOT a tuple\n",
    "thistuple = (\"apple\")\n",
    "print(type(thistuple))\n",
    "\n",
    "# a tuple\n",
    "thistuple = (\"apple\",)\n",
    "print(type(thistuple))\n",
    "\n",
    "# Add Tupples Item\n",
    "thistuple = (\"apple\", \"banana\", \"cherry\")\n",
    "y = list(thistuple)\n",
    "y.append(\"orange\")\n",
    "thistuple = tuple(y)\n",
    "print(thistuple)\n",
    "\n",
    "# Remove Tupples Item\n",
    "thistuple = (\"apple\", \"banana\", \"cherry\")\n",
    "y = list(thistuple)\n",
    "y.remove(\"apple\")\n",
    "thistuple = tuple(y)\n",
    "print(thistuple)"
   ]
  },
  {
   "cell_type": "code",
   "execution_count": 9,
   "metadata": {},
   "outputs": [
    {
     "name": "stdout",
     "output_type": "stream",
     "text": [
      "{'banana', 'cherry', 'apple'}\n",
      "{'banana', 'cherry', 'apple'}\n",
      "{False, True, 'cherry', 'apple', 'banana'}\n",
      "{'banana', 'cherry', 'apple', 'orange'}\n",
      "{'cherry', 'mango', 'apple', 'papaya', 'banana', 'pineapple'}\n",
      "{'cherry', 'apple'}\n"
     ]
    }
   ],
   "source": [
    "thisset = {\"apple\", \"banana\", \"cherry\"}\n",
    "print(thisset)\n",
    "\n",
    "# Gabisa mengandung data duplicate\n",
    "thisset = {\"apple\", \"banana\", \"cherry\", \"apple\"}\n",
    "print(thisset)\n",
    "\n",
    "thisset = {\"apple\", \"banana\", \"cherry\", False, True, 0}\n",
    "print(thisset)\n",
    "\n",
    "# Add Set\n",
    "thisset = {\"apple\", \"banana\", \"cherry\"}\n",
    "thisset.add(\"orange\")\n",
    "print(thisset)\n",
    "\n",
    "# Add Set With Set\n",
    "thisset = {\"apple\", \"banana\", \"cherry\"}\n",
    "tropical = {\"pineapple\", \"mango\", \"papaya\"}\n",
    "thisset.update(tropical)\n",
    "print(thisset)\n",
    "\n",
    "# Remove Set Item\n",
    "thisset = {\"apple\", \"banana\", \"cherry\"}\n",
    "thisset.remove(\"banana\")\n",
    "print(thisset)"
   ]
  },
  {
   "cell_type": "code",
   "execution_count": null,
   "metadata": {},
   "outputs": [],
   "source": []
  }
 ],
 "metadata": {
  "kernelspec": {
   "display_name": "base",
   "language": "python",
   "name": "python3"
  },
  "language_info": {
   "codemirror_mode": {
    "name": "ipython",
    "version": 3
   },
   "file_extension": ".py",
   "mimetype": "text/x-python",
   "name": "python",
   "nbconvert_exporter": "python",
   "pygments_lexer": "ipython3",
   "version": "3.11.7"
  }
 },
 "nbformat": 4,
 "nbformat_minor": 2
}
